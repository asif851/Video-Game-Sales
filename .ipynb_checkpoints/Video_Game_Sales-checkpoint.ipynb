{
 "cells": [
  {
   "cell_type": "code",
   "execution_count": 1,
   "id": "9a777d16",
   "metadata": {},
   "outputs": [],
   "source": [
    "import pandas as pd\n",
    "import numpy as np\n",
    "import matplotlib.pyplot as plt\n",
    "import seaborn as sns"
   ]
  },
  {
   "cell_type": "code",
   "execution_count": 2,
   "id": "48c5ef45",
   "metadata": {},
   "outputs": [
    {
     "data": {
      "text/html": [
       "<div>\n",
       "<style scoped>\n",
       "    .dataframe tbody tr th:only-of-type {\n",
       "        vertical-align: middle;\n",
       "    }\n",
       "\n",
       "    .dataframe tbody tr th {\n",
       "        vertical-align: top;\n",
       "    }\n",
       "\n",
       "    .dataframe thead th {\n",
       "        text-align: right;\n",
       "    }\n",
       "</style>\n",
       "<table border=\"1\" class=\"dataframe\">\n",
       "  <thead>\n",
       "    <tr style=\"text-align: right;\">\n",
       "      <th></th>\n",
       "      <th>Name</th>\n",
       "      <th>Platform</th>\n",
       "      <th>Year_of_Release</th>\n",
       "      <th>Genre</th>\n",
       "      <th>Publisher</th>\n",
       "      <th>NA_Sales</th>\n",
       "      <th>EU_Sales</th>\n",
       "      <th>JP_Sales</th>\n",
       "      <th>Other_Sales</th>\n",
       "      <th>Global_Sales</th>\n",
       "      <th>Critic_Score</th>\n",
       "      <th>Critic_Count</th>\n",
       "      <th>User_Score</th>\n",
       "      <th>User_Count</th>\n",
       "      <th>Developer</th>\n",
       "      <th>Rating</th>\n",
       "    </tr>\n",
       "  </thead>\n",
       "  <tbody>\n",
       "    <tr>\n",
       "      <th>0</th>\n",
       "      <td>Wii Sports</td>\n",
       "      <td>Wii</td>\n",
       "      <td>2006.0</td>\n",
       "      <td>Sports</td>\n",
       "      <td>Nintendo</td>\n",
       "      <td>41.36</td>\n",
       "      <td>28.96</td>\n",
       "      <td>3.77</td>\n",
       "      <td>8.45</td>\n",
       "      <td>82.53</td>\n",
       "      <td>76.0</td>\n",
       "      <td>51.0</td>\n",
       "      <td>8</td>\n",
       "      <td>322.0</td>\n",
       "      <td>Nintendo</td>\n",
       "      <td>E</td>\n",
       "    </tr>\n",
       "    <tr>\n",
       "      <th>1</th>\n",
       "      <td>Super Mario Bros.</td>\n",
       "      <td>NES</td>\n",
       "      <td>1985.0</td>\n",
       "      <td>Platform</td>\n",
       "      <td>Nintendo</td>\n",
       "      <td>29.08</td>\n",
       "      <td>3.58</td>\n",
       "      <td>6.81</td>\n",
       "      <td>0.77</td>\n",
       "      <td>40.24</td>\n",
       "      <td>NaN</td>\n",
       "      <td>NaN</td>\n",
       "      <td>NaN</td>\n",
       "      <td>NaN</td>\n",
       "      <td>NaN</td>\n",
       "      <td>NaN</td>\n",
       "    </tr>\n",
       "    <tr>\n",
       "      <th>2</th>\n",
       "      <td>Mario Kart Wii</td>\n",
       "      <td>Wii</td>\n",
       "      <td>2008.0</td>\n",
       "      <td>Racing</td>\n",
       "      <td>Nintendo</td>\n",
       "      <td>15.68</td>\n",
       "      <td>12.76</td>\n",
       "      <td>3.79</td>\n",
       "      <td>3.29</td>\n",
       "      <td>35.52</td>\n",
       "      <td>82.0</td>\n",
       "      <td>73.0</td>\n",
       "      <td>8.3</td>\n",
       "      <td>709.0</td>\n",
       "      <td>Nintendo</td>\n",
       "      <td>E</td>\n",
       "    </tr>\n",
       "    <tr>\n",
       "      <th>3</th>\n",
       "      <td>Wii Sports Resort</td>\n",
       "      <td>Wii</td>\n",
       "      <td>2009.0</td>\n",
       "      <td>Sports</td>\n",
       "      <td>Nintendo</td>\n",
       "      <td>15.61</td>\n",
       "      <td>10.93</td>\n",
       "      <td>3.28</td>\n",
       "      <td>2.95</td>\n",
       "      <td>32.77</td>\n",
       "      <td>80.0</td>\n",
       "      <td>73.0</td>\n",
       "      <td>8</td>\n",
       "      <td>192.0</td>\n",
       "      <td>Nintendo</td>\n",
       "      <td>E</td>\n",
       "    </tr>\n",
       "    <tr>\n",
       "      <th>4</th>\n",
       "      <td>Pokemon Red/Pokemon Blue</td>\n",
       "      <td>GB</td>\n",
       "      <td>1996.0</td>\n",
       "      <td>Role-Playing</td>\n",
       "      <td>Nintendo</td>\n",
       "      <td>11.27</td>\n",
       "      <td>8.89</td>\n",
       "      <td>10.22</td>\n",
       "      <td>1.00</td>\n",
       "      <td>31.37</td>\n",
       "      <td>NaN</td>\n",
       "      <td>NaN</td>\n",
       "      <td>NaN</td>\n",
       "      <td>NaN</td>\n",
       "      <td>NaN</td>\n",
       "      <td>NaN</td>\n",
       "    </tr>\n",
       "  </tbody>\n",
       "</table>\n",
       "</div>"
      ],
      "text/plain": [
       "                       Name Platform  Year_of_Release         Genre Publisher  \\\n",
       "0                Wii Sports      Wii           2006.0        Sports  Nintendo   \n",
       "1         Super Mario Bros.      NES           1985.0      Platform  Nintendo   \n",
       "2            Mario Kart Wii      Wii           2008.0        Racing  Nintendo   \n",
       "3         Wii Sports Resort      Wii           2009.0        Sports  Nintendo   \n",
       "4  Pokemon Red/Pokemon Blue       GB           1996.0  Role-Playing  Nintendo   \n",
       "\n",
       "   NA_Sales  EU_Sales  JP_Sales  Other_Sales  Global_Sales  Critic_Score  \\\n",
       "0     41.36     28.96      3.77         8.45         82.53          76.0   \n",
       "1     29.08      3.58      6.81         0.77         40.24           NaN   \n",
       "2     15.68     12.76      3.79         3.29         35.52          82.0   \n",
       "3     15.61     10.93      3.28         2.95         32.77          80.0   \n",
       "4     11.27      8.89     10.22         1.00         31.37           NaN   \n",
       "\n",
       "   Critic_Count User_Score  User_Count Developer Rating  \n",
       "0          51.0          8       322.0  Nintendo      E  \n",
       "1           NaN        NaN         NaN       NaN    NaN  \n",
       "2          73.0        8.3       709.0  Nintendo      E  \n",
       "3          73.0          8       192.0  Nintendo      E  \n",
       "4           NaN        NaN         NaN       NaN    NaN  "
      ]
     },
     "execution_count": 2,
     "metadata": {},
     "output_type": "execute_result"
    }
   ],
   "source": [
    "df = pd.read_csv(\"Video_Games_Sales_as_at_22_Dec_2016.csv\")\n",
    "df.head()"
   ]
  },
  {
   "cell_type": "code",
   "execution_count": 3,
   "id": "35efa7b2",
   "metadata": {},
   "outputs": [
    {
     "data": {
      "text/plain": [
       "(16719, 16)"
      ]
     },
     "execution_count": 3,
     "metadata": {},
     "output_type": "execute_result"
    }
   ],
   "source": [
    "df.shape"
   ]
  },
  {
   "cell_type": "code",
   "execution_count": 4,
   "id": "c240883c",
   "metadata": {},
   "outputs": [
    {
     "name": "stdout",
     "output_type": "stream",
     "text": [
      "<class 'pandas.core.frame.DataFrame'>\n",
      "RangeIndex: 16719 entries, 0 to 16718\n",
      "Data columns (total 16 columns):\n",
      " #   Column           Non-Null Count  Dtype  \n",
      "---  ------           --------------  -----  \n",
      " 0   Name             16717 non-null  object \n",
      " 1   Platform         16719 non-null  object \n",
      " 2   Year_of_Release  16450 non-null  float64\n",
      " 3   Genre            16717 non-null  object \n",
      " 4   Publisher        16665 non-null  object \n",
      " 5   NA_Sales         16719 non-null  float64\n",
      " 6   EU_Sales         16719 non-null  float64\n",
      " 7   JP_Sales         16719 non-null  float64\n",
      " 8   Other_Sales      16719 non-null  float64\n",
      " 9   Global_Sales     16719 non-null  float64\n",
      " 10  Critic_Score     8137 non-null   float64\n",
      " 11  Critic_Count     8137 non-null   float64\n",
      " 12  User_Score       10015 non-null  object \n",
      " 13  User_Count       7590 non-null   float64\n",
      " 14  Developer        10096 non-null  object \n",
      " 15  Rating           9950 non-null   object \n",
      "dtypes: float64(9), object(7)\n",
      "memory usage: 2.0+ MB\n"
     ]
    }
   ],
   "source": [
    "df.info()"
   ]
  },
  {
   "cell_type": "markdown",
   "id": "b7f5ba68",
   "metadata": {},
   "source": [
    "# Renaming Columns"
   ]
  },
  {
   "cell_type": "code",
   "execution_count": 5,
   "id": "f4b42676",
   "metadata": {},
   "outputs": [],
   "source": [
    "df.rename(columns = {'Year_of_Release':'Year'}, inplace = True)"
   ]
  },
  {
   "cell_type": "markdown",
   "id": "6d5750b0",
   "metadata": {},
   "source": [
    "# Fix Missing Values"
   ]
  },
  {
   "cell_type": "code",
   "execution_count": 6,
   "id": "46e9f6bf",
   "metadata": {},
   "outputs": [],
   "source": [
    "df = df.drop(\"Developer\",axis =1)"
   ]
  },
  {
   "cell_type": "code",
   "execution_count": 7,
   "id": "e4532817",
   "metadata": {},
   "outputs": [
    {
     "data": {
      "text/html": [
       "<div>\n",
       "<style scoped>\n",
       "    .dataframe tbody tr th:only-of-type {\n",
       "        vertical-align: middle;\n",
       "    }\n",
       "\n",
       "    .dataframe tbody tr th {\n",
       "        vertical-align: top;\n",
       "    }\n",
       "\n",
       "    .dataframe thead th {\n",
       "        text-align: right;\n",
       "    }\n",
       "</style>\n",
       "<table border=\"1\" class=\"dataframe\">\n",
       "  <thead>\n",
       "    <tr style=\"text-align: right;\">\n",
       "      <th></th>\n",
       "      <th>Name</th>\n",
       "      <th>Platform</th>\n",
       "      <th>Year</th>\n",
       "      <th>Genre</th>\n",
       "      <th>Publisher</th>\n",
       "      <th>NA_Sales</th>\n",
       "      <th>EU_Sales</th>\n",
       "      <th>JP_Sales</th>\n",
       "      <th>Other_Sales</th>\n",
       "      <th>Global_Sales</th>\n",
       "      <th>Critic_Score</th>\n",
       "      <th>Critic_Count</th>\n",
       "      <th>User_Score</th>\n",
       "      <th>User_Count</th>\n",
       "      <th>Rating</th>\n",
       "    </tr>\n",
       "  </thead>\n",
       "  <tbody>\n",
       "    <tr>\n",
       "      <th>0</th>\n",
       "      <td>Wii Sports</td>\n",
       "      <td>Wii</td>\n",
       "      <td>2006.0</td>\n",
       "      <td>Sports</td>\n",
       "      <td>Nintendo</td>\n",
       "      <td>41.36</td>\n",
       "      <td>28.96</td>\n",
       "      <td>3.77</td>\n",
       "      <td>8.45</td>\n",
       "      <td>82.53</td>\n",
       "      <td>76.0</td>\n",
       "      <td>51.0</td>\n",
       "      <td>8</td>\n",
       "      <td>322.0</td>\n",
       "      <td>E</td>\n",
       "    </tr>\n",
       "    <tr>\n",
       "      <th>1</th>\n",
       "      <td>Super Mario Bros.</td>\n",
       "      <td>NES</td>\n",
       "      <td>1985.0</td>\n",
       "      <td>Platform</td>\n",
       "      <td>Nintendo</td>\n",
       "      <td>29.08</td>\n",
       "      <td>3.58</td>\n",
       "      <td>6.81</td>\n",
       "      <td>0.77</td>\n",
       "      <td>40.24</td>\n",
       "      <td>NaN</td>\n",
       "      <td>NaN</td>\n",
       "      <td>NaN</td>\n",
       "      <td>NaN</td>\n",
       "      <td>NaN</td>\n",
       "    </tr>\n",
       "    <tr>\n",
       "      <th>2</th>\n",
       "      <td>Mario Kart Wii</td>\n",
       "      <td>Wii</td>\n",
       "      <td>2008.0</td>\n",
       "      <td>Racing</td>\n",
       "      <td>Nintendo</td>\n",
       "      <td>15.68</td>\n",
       "      <td>12.76</td>\n",
       "      <td>3.79</td>\n",
       "      <td>3.29</td>\n",
       "      <td>35.52</td>\n",
       "      <td>82.0</td>\n",
       "      <td>73.0</td>\n",
       "      <td>8.3</td>\n",
       "      <td>709.0</td>\n",
       "      <td>E</td>\n",
       "    </tr>\n",
       "    <tr>\n",
       "      <th>3</th>\n",
       "      <td>Wii Sports Resort</td>\n",
       "      <td>Wii</td>\n",
       "      <td>2009.0</td>\n",
       "      <td>Sports</td>\n",
       "      <td>Nintendo</td>\n",
       "      <td>15.61</td>\n",
       "      <td>10.93</td>\n",
       "      <td>3.28</td>\n",
       "      <td>2.95</td>\n",
       "      <td>32.77</td>\n",
       "      <td>80.0</td>\n",
       "      <td>73.0</td>\n",
       "      <td>8</td>\n",
       "      <td>192.0</td>\n",
       "      <td>E</td>\n",
       "    </tr>\n",
       "    <tr>\n",
       "      <th>4</th>\n",
       "      <td>Pokemon Red/Pokemon Blue</td>\n",
       "      <td>GB</td>\n",
       "      <td>1996.0</td>\n",
       "      <td>Role-Playing</td>\n",
       "      <td>Nintendo</td>\n",
       "      <td>11.27</td>\n",
       "      <td>8.89</td>\n",
       "      <td>10.22</td>\n",
       "      <td>1.00</td>\n",
       "      <td>31.37</td>\n",
       "      <td>NaN</td>\n",
       "      <td>NaN</td>\n",
       "      <td>NaN</td>\n",
       "      <td>NaN</td>\n",
       "      <td>NaN</td>\n",
       "    </tr>\n",
       "  </tbody>\n",
       "</table>\n",
       "</div>"
      ],
      "text/plain": [
       "                       Name Platform    Year         Genre Publisher  \\\n",
       "0                Wii Sports      Wii  2006.0        Sports  Nintendo   \n",
       "1         Super Mario Bros.      NES  1985.0      Platform  Nintendo   \n",
       "2            Mario Kart Wii      Wii  2008.0        Racing  Nintendo   \n",
       "3         Wii Sports Resort      Wii  2009.0        Sports  Nintendo   \n",
       "4  Pokemon Red/Pokemon Blue       GB  1996.0  Role-Playing  Nintendo   \n",
       "\n",
       "   NA_Sales  EU_Sales  JP_Sales  Other_Sales  Global_Sales  Critic_Score  \\\n",
       "0     41.36     28.96      3.77         8.45         82.53          76.0   \n",
       "1     29.08      3.58      6.81         0.77         40.24           NaN   \n",
       "2     15.68     12.76      3.79         3.29         35.52          82.0   \n",
       "3     15.61     10.93      3.28         2.95         32.77          80.0   \n",
       "4     11.27      8.89     10.22         1.00         31.37           NaN   \n",
       "\n",
       "   Critic_Count User_Score  User_Count Rating  \n",
       "0          51.0          8       322.0      E  \n",
       "1           NaN        NaN         NaN    NaN  \n",
       "2          73.0        8.3       709.0      E  \n",
       "3          73.0          8       192.0      E  \n",
       "4           NaN        NaN         NaN    NaN  "
      ]
     },
     "execution_count": 7,
     "metadata": {},
     "output_type": "execute_result"
    }
   ],
   "source": [
    "df.head()"
   ]
  },
  {
   "cell_type": "code",
   "execution_count": 8,
   "id": "df3e86d9",
   "metadata": {},
   "outputs": [],
   "source": [
    "df = df.dropna(subset=['Year',\"Publisher\",\"Name\",\"Genre\",\"Rating\",\"User_Score\"])"
   ]
  },
  {
   "cell_type": "code",
   "execution_count": 9,
   "id": "61edddd6",
   "metadata": {},
   "outputs": [
    {
     "data": {
      "text/plain": [
       "(9705, 15)"
      ]
     },
     "execution_count": 9,
     "metadata": {},
     "output_type": "execute_result"
    }
   ],
   "source": [
    "df.shape"
   ]
  },
  {
   "cell_type": "code",
   "execution_count": 10,
   "id": "0ce48e06",
   "metadata": {},
   "outputs": [
    {
     "data": {
      "text/plain": [
       "Name               0\n",
       "Platform           0\n",
       "Year               0\n",
       "Genre              0\n",
       "Publisher          0\n",
       "NA_Sales           0\n",
       "EU_Sales           0\n",
       "JP_Sales           0\n",
       "Other_Sales        0\n",
       "Global_Sales       0\n",
       "Critic_Score    1828\n",
       "Critic_Count    1828\n",
       "User_Score         0\n",
       "User_Count      2327\n",
       "Rating             0\n",
       "dtype: int64"
      ]
     },
     "execution_count": 10,
     "metadata": {},
     "output_type": "execute_result"
    }
   ],
   "source": [
    "df.isnull().sum()"
   ]
  },
  {
   "cell_type": "code",
   "execution_count": 11,
   "id": "1f9403fd",
   "metadata": {},
   "outputs": [],
   "source": [
    "mean_value_CS=df['Critic_Score'].mean()\n",
    "mean_value_CC=df['Critic_Count'].mean()\n",
    "mean_value_UC=df['User_Count'].mean()\n"
   ]
  },
  {
   "cell_type": "code",
   "execution_count": 12,
   "id": "96b1a86b",
   "metadata": {},
   "outputs": [],
   "source": [
    "df['Critic_Score'].fillna(value=mean_value_CS, inplace=True)\n",
    "df['Critic_Count'].fillna(value=mean_value_CC, inplace=True)\n",
    "df['User_Count'].fillna(value=mean_value_UC, inplace=True)\n"
   ]
  },
  {
   "cell_type": "code",
   "execution_count": 13,
   "id": "47b606cb",
   "metadata": {},
   "outputs": [
    {
     "name": "stdout",
     "output_type": "stream",
     "text": [
      "<class 'pandas.core.frame.DataFrame'>\n",
      "Int64Index: 9705 entries, 0 to 16710\n",
      "Data columns (total 15 columns):\n",
      " #   Column        Non-Null Count  Dtype  \n",
      "---  ------        --------------  -----  \n",
      " 0   Name          9705 non-null   object \n",
      " 1   Platform      9705 non-null   object \n",
      " 2   Year          9705 non-null   float64\n",
      " 3   Genre         9705 non-null   object \n",
      " 4   Publisher     9705 non-null   object \n",
      " 5   NA_Sales      9705 non-null   float64\n",
      " 6   EU_Sales      9705 non-null   float64\n",
      " 7   JP_Sales      9705 non-null   float64\n",
      " 8   Other_Sales   9705 non-null   float64\n",
      " 9   Global_Sales  9705 non-null   float64\n",
      " 10  Critic_Score  9705 non-null   float64\n",
      " 11  Critic_Count  9705 non-null   float64\n",
      " 12  User_Score    9705 non-null   object \n",
      " 13  User_Count    9705 non-null   float64\n",
      " 14  Rating        9705 non-null   object \n",
      "dtypes: float64(9), object(6)\n",
      "memory usage: 1.2+ MB\n"
     ]
    }
   ],
   "source": [
    "df.info()"
   ]
  },
  {
   "cell_type": "markdown",
   "id": "76d76625",
   "metadata": {},
   "source": [
    "# DataLoss"
   ]
  },
  {
   "cell_type": "code",
   "execution_count": 14,
   "id": "3d44a46c",
   "metadata": {},
   "outputs": [
    {
     "name": "stdout",
     "output_type": "stream",
     "text": [
      "The percentage of DataLoss is 42.0%\n"
     ]
    }
   ],
   "source": [
    "print(f\"The percentage of DataLoss is {np.round(((16719-9705)/16719)*100)}%\")"
   ]
  },
  {
   "cell_type": "markdown",
   "id": "7387c34d",
   "metadata": {},
   "source": [
    "# Fix Year"
   ]
  },
  {
   "cell_type": "code",
   "execution_count": 15,
   "id": "ee1de0f6",
   "metadata": {},
   "outputs": [
    {
     "data": {
      "text/plain": [
       "dtype('int32')"
      ]
     },
     "execution_count": 15,
     "metadata": {},
     "output_type": "execute_result"
    }
   ],
   "source": [
    "df[\"Year\"] = df[\"Year\"].astype(int)\n",
    "df[\"Year\"].dtype"
   ]
  },
  {
   "cell_type": "code",
   "execution_count": 16,
   "id": "ce4b8642",
   "metadata": {},
   "outputs": [
    {
     "data": {
      "text/html": [
       "<div>\n",
       "<style scoped>\n",
       "    .dataframe tbody tr th:only-of-type {\n",
       "        vertical-align: middle;\n",
       "    }\n",
       "\n",
       "    .dataframe tbody tr th {\n",
       "        vertical-align: top;\n",
       "    }\n",
       "\n",
       "    .dataframe thead th {\n",
       "        text-align: right;\n",
       "    }\n",
       "</style>\n",
       "<table border=\"1\" class=\"dataframe\">\n",
       "  <thead>\n",
       "    <tr style=\"text-align: right;\">\n",
       "      <th></th>\n",
       "      <th>Name</th>\n",
       "      <th>Platform</th>\n",
       "      <th>Year</th>\n",
       "      <th>Genre</th>\n",
       "      <th>Publisher</th>\n",
       "      <th>NA_Sales</th>\n",
       "      <th>EU_Sales</th>\n",
       "      <th>JP_Sales</th>\n",
       "      <th>Other_Sales</th>\n",
       "      <th>Global_Sales</th>\n",
       "      <th>Critic_Score</th>\n",
       "      <th>Critic_Count</th>\n",
       "      <th>User_Score</th>\n",
       "      <th>User_Count</th>\n",
       "      <th>Rating</th>\n",
       "    </tr>\n",
       "  </thead>\n",
       "  <tbody>\n",
       "    <tr>\n",
       "      <th>0</th>\n",
       "      <td>Wii Sports</td>\n",
       "      <td>Wii</td>\n",
       "      <td>2006</td>\n",
       "      <td>Sports</td>\n",
       "      <td>Nintendo</td>\n",
       "      <td>41.36</td>\n",
       "      <td>28.96</td>\n",
       "      <td>3.77</td>\n",
       "      <td>8.45</td>\n",
       "      <td>82.53</td>\n",
       "      <td>76.0</td>\n",
       "      <td>51.0</td>\n",
       "      <td>8</td>\n",
       "      <td>322.0</td>\n",
       "      <td>E</td>\n",
       "    </tr>\n",
       "    <tr>\n",
       "      <th>2</th>\n",
       "      <td>Mario Kart Wii</td>\n",
       "      <td>Wii</td>\n",
       "      <td>2008</td>\n",
       "      <td>Racing</td>\n",
       "      <td>Nintendo</td>\n",
       "      <td>15.68</td>\n",
       "      <td>12.76</td>\n",
       "      <td>3.79</td>\n",
       "      <td>3.29</td>\n",
       "      <td>35.52</td>\n",
       "      <td>82.0</td>\n",
       "      <td>73.0</td>\n",
       "      <td>8.3</td>\n",
       "      <td>709.0</td>\n",
       "      <td>E</td>\n",
       "    </tr>\n",
       "    <tr>\n",
       "      <th>3</th>\n",
       "      <td>Wii Sports Resort</td>\n",
       "      <td>Wii</td>\n",
       "      <td>2009</td>\n",
       "      <td>Sports</td>\n",
       "      <td>Nintendo</td>\n",
       "      <td>15.61</td>\n",
       "      <td>10.93</td>\n",
       "      <td>3.28</td>\n",
       "      <td>2.95</td>\n",
       "      <td>32.77</td>\n",
       "      <td>80.0</td>\n",
       "      <td>73.0</td>\n",
       "      <td>8</td>\n",
       "      <td>192.0</td>\n",
       "      <td>E</td>\n",
       "    </tr>\n",
       "    <tr>\n",
       "      <th>6</th>\n",
       "      <td>New Super Mario Bros.</td>\n",
       "      <td>DS</td>\n",
       "      <td>2006</td>\n",
       "      <td>Platform</td>\n",
       "      <td>Nintendo</td>\n",
       "      <td>11.28</td>\n",
       "      <td>9.14</td>\n",
       "      <td>6.50</td>\n",
       "      <td>2.88</td>\n",
       "      <td>29.80</td>\n",
       "      <td>89.0</td>\n",
       "      <td>65.0</td>\n",
       "      <td>8.5</td>\n",
       "      <td>431.0</td>\n",
       "      <td>E</td>\n",
       "    </tr>\n",
       "    <tr>\n",
       "      <th>7</th>\n",
       "      <td>Wii Play</td>\n",
       "      <td>Wii</td>\n",
       "      <td>2006</td>\n",
       "      <td>Misc</td>\n",
       "      <td>Nintendo</td>\n",
       "      <td>13.96</td>\n",
       "      <td>9.18</td>\n",
       "      <td>2.93</td>\n",
       "      <td>2.84</td>\n",
       "      <td>28.92</td>\n",
       "      <td>58.0</td>\n",
       "      <td>41.0</td>\n",
       "      <td>6.6</td>\n",
       "      <td>129.0</td>\n",
       "      <td>E</td>\n",
       "    </tr>\n",
       "  </tbody>\n",
       "</table>\n",
       "</div>"
      ],
      "text/plain": [
       "                    Name Platform  Year     Genre Publisher  NA_Sales  \\\n",
       "0             Wii Sports      Wii  2006    Sports  Nintendo     41.36   \n",
       "2         Mario Kart Wii      Wii  2008    Racing  Nintendo     15.68   \n",
       "3      Wii Sports Resort      Wii  2009    Sports  Nintendo     15.61   \n",
       "6  New Super Mario Bros.       DS  2006  Platform  Nintendo     11.28   \n",
       "7               Wii Play      Wii  2006      Misc  Nintendo     13.96   \n",
       "\n",
       "   EU_Sales  JP_Sales  Other_Sales  Global_Sales  Critic_Score  Critic_Count  \\\n",
       "0     28.96      3.77         8.45         82.53          76.0          51.0   \n",
       "2     12.76      3.79         3.29         35.52          82.0          73.0   \n",
       "3     10.93      3.28         2.95         32.77          80.0          73.0   \n",
       "6      9.14      6.50         2.88         29.80          89.0          65.0   \n",
       "7      9.18      2.93         2.84         28.92          58.0          41.0   \n",
       "\n",
       "  User_Score  User_Count Rating  \n",
       "0          8       322.0      E  \n",
       "2        8.3       709.0      E  \n",
       "3          8       192.0      E  \n",
       "6        8.5       431.0      E  \n",
       "7        6.6       129.0      E  "
      ]
     },
     "execution_count": 16,
     "metadata": {},
     "output_type": "execute_result"
    }
   ],
   "source": [
    "df.head()"
   ]
  },
  {
   "cell_type": "markdown",
   "id": "19a38b55",
   "metadata": {},
   "source": [
    "# In which part of the world sales is the most?"
   ]
  },
  {
   "cell_type": "code",
   "execution_count": 17,
   "id": "09d26e9b",
   "metadata": {},
   "outputs": [
    {
     "data": {
      "image/png": "[encoded data removed]",
      "text/plain": [
       "<Figure size 864x504 with 1 Axes>"
      ]
     },
     "metadata": {
      "needs_background": "light"
     },
     "output_type": "display_data"
    }
   ],
   "source": [
    "plt.figure(figsize = (12,7))\n",
    "x = [\"NA_Sales\",\"EU_Sales\",\"JP_Sales\",\"Other_Sales\"]\n",
    "y = [df[\"NA_Sales\"].mean(),df[\"EU_Sales\"].mean(),df[\"JP_Sales\"].mean(),df[\"Other_Sales\"].mean()]\n",
    "plt.title(\"World Wide Sales\")\n",
    "plt.ylabel(\"Sales\",color = \"Blue\")\n",
    "plt.xlabel(\"Country\",color = \"Blue\")\n",
    "plt.scatter(x,y)\n",
    "plt.show()"
   ]
  },
  {
   "cell_type": "markdown",
   "id": "d2dcdd69",
   "metadata": {},
   "source": [
    "North America has the highest Sales"
   ]
  },
  {
   "cell_type": "markdown",
   "id": "78f4b9a4",
   "metadata": {},
   "source": [
    "# Which type of game is being made the most globally?"
   ]
  },
  {
   "cell_type": "code",
   "execution_count": 18,
   "id": "3d66669e",
   "metadata": {},
   "outputs": [
    {
     "data": {
      "text/plain": [
       "Action          2135\n",
       "Sports          1471\n",
       "Shooter          995\n",
       "Misc             857\n",
       "Racing           849\n",
       "Role-Playing     764\n",
       "Platform         559\n",
       "Simulation       555\n",
       "Fighting         430\n",
       "Adventure        430\n",
       "Puzzle           330\n",
       "Strategy         330\n",
       "Name: Genre, dtype: int64"
      ]
     },
     "execution_count": 18,
     "metadata": {},
     "output_type": "execute_result"
    }
   ],
   "source": [
    "df[\"Genre\"].value_counts()"
   ]
  },
  {
   "cell_type": "code",
   "execution_count": 19,
   "id": "06467166",
   "metadata": {},
   "outputs": [
    {
     "data": {
      "image/png": "[encoded data removed]",
      "text/plain": [
       "<Figure size 864x504 with 1 Axes>"
      ]
     },
     "metadata": {
      "needs_background": "light"
     },
     "output_type": "display_data"
    }
   ],
   "source": [
    "plt.figure(figsize = (12,7))\n",
    "x = ['Action','Sports','Shooter','Misc','Racing','Role-Playing','Platform','Simulation','Fighting','Adventure','Puzzle',\"Strategy\"]\n",
    "y = df[\"Genre\"].value_counts()\n",
    "plt.title(\"Games Made Most\")\n",
    "plt.ylabel(\"Total number of Game\",color = \"Blue\")\n",
    "plt.xlabel(\"Type of Game\",color = \"Blue\")\n",
    "plt.bar(x,y)\n",
    "plt.show()"
   ]
  },
  {
   "cell_type": "markdown",
   "id": "7ed06399",
   "metadata": {},
   "source": [
    "Action genre games is being made the most"
   ]
  },
  {
   "cell_type": "markdown",
   "id": "23d28dd6",
   "metadata": {},
   "source": [
    "# Which type of game is selling the most globally?"
   ]
  },
  {
   "cell_type": "code",
   "execution_count": 20,
   "id": "a22d9283",
   "metadata": {},
   "outputs": [
    {
     "data": {
      "text/plain": [
       "<Figure size 864x1080 with 0 Axes>"
      ]
     },
     "metadata": {},
     "output_type": "display_data"
    },
    {
     "data": {
      "image/png": "[encoded data removed]",
      "text/plain": [
       "<Figure size 360x360 with 1 Axes>"
      ]
     },
     "metadata": {
      "needs_background": "light"
     },
     "output_type": "display_data"
    }
   ],
   "source": [
    "plt.figure(figsize = (12,15))\n",
    "sns.catplot(data=df,x=\"Global_Sales\", y =\"Genre\",kind = \"bar\",palette = \"spring\")\n",
    "plt.tight_layout()\n",
    "plt.show()"
   ]
  },
  {
   "cell_type": "markdown",
   "id": "7e8ee811",
   "metadata": {},
   "source": [
    "Shooter type of games has the highest sales globally"
   ]
  },
  {
   "cell_type": "markdown",
   "id": "83faea1b",
   "metadata": {},
   "source": [
    "# Compare global sales in 3 decades"
   ]
  },
  {
   "cell_type": "code",
   "execution_count": 21,
   "id": "61acf95e",
   "metadata": {},
   "outputs": [],
   "source": [
    "df_Eighties = df[(df[\"Year\"]>=1980) & (df[\"Year\"]<=1989)]\n",
    "df_Nineties = df[(df[\"Year\"]>=1990) & (df[\"Year\"]<=1999)]\n",
    "df_Twenties = df[(df[\"Year\"]>=2000)]"
   ]
  },
  {
   "cell_type": "code",
   "execution_count": 22,
   "id": "207b56c9",
   "metadata": {},
   "outputs": [
    {
     "data": {
      "image/png": "[encoded data removed]",
      "text/plain": [
       "<Figure size 864x504 with 1 Axes>"
      ]
     },
     "metadata": {
      "needs_background": "light"
     },
     "output_type": "display_data"
    }
   ],
   "source": [
    "plt.figure(figsize = (12,7))\n",
    "\n",
    "x = [df_Eighties.loc[df_Eighties[\"Global_Sales\"].idxmax()][2],df_Nineties.loc[df_Nineties[\"Global_Sales\"].idxmax()][2],df_Twenties.loc[df_Twenties[\"Global_Sales\"].idxmax()][2]]\n",
    "y = [df_Eighties[\"Global_Sales\"].max(),df_Nineties[\"Global_Sales\"].max(),df_Twenties[\"Global_Sales\"].max()]\n",
    "plt.title(\"Max Global Sales (Year Wise)\")\n",
    "plt.ylabel(\"Sales\",color = \"blue\")\n",
    "plt.xlabel(\"Year\",color = \"Blue\")\n",
    "plt.plot(x,y,marker = \"o\",ms = 10)\n",
    "plt.show()"
   ]
  },
  {
   "cell_type": "markdown",
   "id": "767abe35",
   "metadata": {},
   "source": [
    "# Trending Games in the twenties"
   ]
  },
  {
   "cell_type": "code",
   "execution_count": 23,
   "id": "309c5354",
   "metadata": {},
   "outputs": [
    {
     "data": {
      "text/plain": [
       "Action          2121\n",
       "Sports          1467\n",
       "Shooter          988\n",
       "Misc             854\n",
       "Racing           841\n",
       "Role-Playing     743\n",
       "Platform         553\n",
       "Simulation       548\n",
       "Adventure        426\n",
       "Fighting         421\n",
       "Puzzle           327\n",
       "Strategy         319\n",
       "Name: Genre, dtype: int64"
      ]
     },
     "execution_count": 23,
     "metadata": {},
     "output_type": "execute_result"
    }
   ],
   "source": [
    "df_Twenties[\"Genre\"].value_counts()"
   ]
  },
  {
   "cell_type": "code",
   "execution_count": 24,
   "id": "918b8cef",
   "metadata": {},
   "outputs": [
    {
     "data": {
      "image/png": "[encoded data removed]",
      "text/plain": [
       "<Figure size 864x504 with 1 Axes>"
      ]
     },
     "metadata": {},
     "output_type": "display_data"
    }
   ],
   "source": [
    "plt.figure(figsize = (12,7))\n",
    "x = ['Action','Sports','Shooter','Misc','Racing','Role-Playing','Platform','Simulation','Adventure','Fighting','Puzzle',\"Strategy\"]\n",
    "y = df_Twenties[\"Genre\"].value_counts()\n",
    "plt.title(\"Game Sales in the twenties\")\n",
    "#plt.ylabel(\"Total number of Game\",color = \"Blue\")\n",
    "#plt.xlabel(\"Type of Game\",color = \"Blue\")\n",
    "plt.pie(y,labels = x)\n",
    "#plt.legend()\n",
    "plt.show()"
   ]
  },
  {
   "cell_type": "markdown",
   "id": "b973667d",
   "metadata": {},
   "source": [
    "Action types of games are more in demand currently"
   ]
  },
  {
   "cell_type": "code",
   "execution_count": 25,
   "id": "58377eb4",
   "metadata": {},
   "outputs": [
    {
     "data": {
      "text/html": [
       "<div>\n",
       "<style scoped>\n",
       "    .dataframe tbody tr th:only-of-type {\n",
       "        vertical-align: middle;\n",
       "    }\n",
       "\n",
       "    .dataframe tbody tr th {\n",
       "        vertical-align: top;\n",
       "    }\n",
       "\n",
       "    .dataframe thead th {\n",
       "        text-align: right;\n",
       "    }\n",
       "</style>\n",
       "<table border=\"1\" class=\"dataframe\">\n",
       "  <thead>\n",
       "    <tr style=\"text-align: right;\">\n",
       "      <th></th>\n",
       "      <th>Name</th>\n",
       "      <th>Platform</th>\n",
       "      <th>Year</th>\n",
       "      <th>Genre</th>\n",
       "      <th>Publisher</th>\n",
       "      <th>NA_Sales</th>\n",
       "      <th>EU_Sales</th>\n",
       "      <th>JP_Sales</th>\n",
       "      <th>Other_Sales</th>\n",
       "      <th>Global_Sales</th>\n",
       "      <th>Critic_Score</th>\n",
       "      <th>Critic_Count</th>\n",
       "      <th>User_Score</th>\n",
       "      <th>User_Count</th>\n",
       "      <th>Rating</th>\n",
       "    </tr>\n",
       "  </thead>\n",
       "  <tbody>\n",
       "    <tr>\n",
       "      <th>0</th>\n",
       "      <td>Wii Sports</td>\n",
       "      <td>Wii</td>\n",
       "      <td>2006</td>\n",
       "      <td>Sports</td>\n",
       "      <td>Nintendo</td>\n",
       "      <td>41.36</td>\n",
       "      <td>28.96</td>\n",
       "      <td>3.77</td>\n",
       "      <td>8.45</td>\n",
       "      <td>82.53</td>\n",
       "      <td>76.0</td>\n",
       "      <td>51.0</td>\n",
       "      <td>8</td>\n",
       "      <td>322.0</td>\n",
       "      <td>E</td>\n",
       "    </tr>\n",
       "    <tr>\n",
       "      <th>2</th>\n",
       "      <td>Mario Kart Wii</td>\n",
       "      <td>Wii</td>\n",
       "      <td>2008</td>\n",
       "      <td>Racing</td>\n",
       "      <td>Nintendo</td>\n",
       "      <td>15.68</td>\n",
       "      <td>12.76</td>\n",
       "      <td>3.79</td>\n",
       "      <td>3.29</td>\n",
       "      <td>35.52</td>\n",
       "      <td>82.0</td>\n",
       "      <td>73.0</td>\n",
       "      <td>8.3</td>\n",
       "      <td>709.0</td>\n",
       "      <td>E</td>\n",
       "    </tr>\n",
       "    <tr>\n",
       "      <th>3</th>\n",
       "      <td>Wii Sports Resort</td>\n",
       "      <td>Wii</td>\n",
       "      <td>2009</td>\n",
       "      <td>Sports</td>\n",
       "      <td>Nintendo</td>\n",
       "      <td>15.61</td>\n",
       "      <td>10.93</td>\n",
       "      <td>3.28</td>\n",
       "      <td>2.95</td>\n",
       "      <td>32.77</td>\n",
       "      <td>80.0</td>\n",
       "      <td>73.0</td>\n",
       "      <td>8</td>\n",
       "      <td>192.0</td>\n",
       "      <td>E</td>\n",
       "    </tr>\n",
       "    <tr>\n",
       "      <th>6</th>\n",
       "      <td>New Super Mario Bros.</td>\n",
       "      <td>DS</td>\n",
       "      <td>2006</td>\n",
       "      <td>Platform</td>\n",
       "      <td>Nintendo</td>\n",
       "      <td>11.28</td>\n",
       "      <td>9.14</td>\n",
       "      <td>6.50</td>\n",
       "      <td>2.88</td>\n",
       "      <td>29.80</td>\n",
       "      <td>89.0</td>\n",
       "      <td>65.0</td>\n",
       "      <td>8.5</td>\n",
       "      <td>431.0</td>\n",
       "      <td>E</td>\n",
       "    </tr>\n",
       "    <tr>\n",
       "      <th>7</th>\n",
       "      <td>Wii Play</td>\n",
       "      <td>Wii</td>\n",
       "      <td>2006</td>\n",
       "      <td>Misc</td>\n",
       "      <td>Nintendo</td>\n",
       "      <td>13.96</td>\n",
       "      <td>9.18</td>\n",
       "      <td>2.93</td>\n",
       "      <td>2.84</td>\n",
       "      <td>28.92</td>\n",
       "      <td>58.0</td>\n",
       "      <td>41.0</td>\n",
       "      <td>6.6</td>\n",
       "      <td>129.0</td>\n",
       "      <td>E</td>\n",
       "    </tr>\n",
       "  </tbody>\n",
       "</table>\n",
       "</div>"
      ],
      "text/plain": [
       "                    Name Platform  Year     Genre Publisher  NA_Sales  \\\n",
       "0             Wii Sports      Wii  2006    Sports  Nintendo     41.36   \n",
       "2         Mario Kart Wii      Wii  2008    Racing  Nintendo     15.68   \n",
       "3      Wii Sports Resort      Wii  2009    Sports  Nintendo     15.61   \n",
       "6  New Super Mario Bros.       DS  2006  Platform  Nintendo     11.28   \n",
       "7               Wii Play      Wii  2006      Misc  Nintendo     13.96   \n",
       "\n",
       "   EU_Sales  JP_Sales  Other_Sales  Global_Sales  Critic_Score  Critic_Count  \\\n",
       "0     28.96      3.77         8.45         82.53          76.0          51.0   \n",
       "2     12.76      3.79         3.29         35.52          82.0          73.0   \n",
       "3     10.93      3.28         2.95         32.77          80.0          73.0   \n",
       "6      9.14      6.50         2.88         29.80          89.0          65.0   \n",
       "7      9.18      2.93         2.84         28.92          58.0          41.0   \n",
       "\n",
       "  User_Score  User_Count Rating  \n",
       "0          8       322.0      E  \n",
       "2        8.3       709.0      E  \n",
       "3          8       192.0      E  \n",
       "6        8.5       431.0      E  \n",
       "7        6.6       129.0      E  "
      ]
     },
     "execution_count": 25,
     "metadata": {},
     "output_type": "execute_result"
    }
   ],
   "source": [
    "df.head()"
   ]
  },
  {
   "cell_type": "markdown",
   "id": "21f8e9f0",
   "metadata": {},
   "source": [
    "# If i create a new game then in which part of the world will it be more profitable to launch"
   ]
  },
  {
   "cell_type": "code",
   "execution_count": 26,
   "id": "2bfac6f8",
   "metadata": {},
   "outputs": [
    {
     "data": {
      "text/plain": [
       "Name            Wii Sports\n",
       "Platform               Wii\n",
       "Year                  2006\n",
       "Genre               Sports\n",
       "Publisher         Nintendo\n",
       "NA_Sales             41.36\n",
       "EU_Sales             28.96\n",
       "JP_Sales              3.77\n",
       "Other_Sales           8.45\n",
       "Global_Sales         82.53\n",
       "Critic_Score          76.0\n",
       "Critic_Count          51.0\n",
       "User_Score               8\n",
       "User_Count           322.0\n",
       "Rating                   E\n",
       "Name: 0, dtype: object"
      ]
     },
     "execution_count": 26,
     "metadata": {},
     "output_type": "execute_result"
    }
   ],
   "source": [
    "df_Twenties.loc[df[\"EU_Sales\"].idxmax()]"
   ]
  },
  {
   "cell_type": "markdown",
   "id": "7bde751b",
   "metadata": {},
   "source": [
    "if I launch a game in Europe I should make a sports genre game because it is more profitable"
   ]
  },
  {
   "cell_type": "code",
   "execution_count": 27,
   "id": "e7909a1d",
   "metadata": {},
   "outputs": [
    {
     "data": {
      "text/plain": [
       "Name            Wii Sports\n",
       "Platform               Wii\n",
       "Year                  2006\n",
       "Genre               Sports\n",
       "Publisher         Nintendo\n",
       "NA_Sales             41.36\n",
       "EU_Sales             28.96\n",
       "JP_Sales              3.77\n",
       "Other_Sales           8.45\n",
       "Global_Sales         82.53\n",
       "Critic_Score          76.0\n",
       "Critic_Count          51.0\n",
       "User_Score               8\n",
       "User_Count           322.0\n",
       "Rating                   E\n",
       "Name: 0, dtype: object"
      ]
     },
     "execution_count": 27,
     "metadata": {},
     "output_type": "execute_result"
    }
   ],
   "source": [
    "df_Twenties.loc[df[\"NA_Sales\"].idxmax()]"
   ]
  },
  {
   "cell_type": "markdown",
   "id": "cccd2f1d",
   "metadata": {},
   "source": [
    "if I launch a game in North America I should make a sports genre game because it is more profitable"
   ]
  },
  {
   "cell_type": "code",
   "execution_count": 28,
   "id": "1e617e79",
   "metadata": {},
   "outputs": [
    {
     "data": {
      "text/plain": [
       "Name            New Super Mario Bros.\n",
       "Platform                           DS\n",
       "Year                             2006\n",
       "Genre                        Platform\n",
       "Publisher                    Nintendo\n",
       "NA_Sales                        11.28\n",
       "EU_Sales                         9.14\n",
       "JP_Sales                          6.5\n",
       "Other_Sales                      2.88\n",
       "Global_Sales                     29.8\n",
       "Critic_Score                     89.0\n",
       "Critic_Count                     65.0\n",
       "User_Score                        8.5\n",
       "User_Count                      431.0\n",
       "Rating                              E\n",
       "Name: 6, dtype: object"
      ]
     },
     "execution_count": 28,
     "metadata": {},
     "output_type": "execute_result"
    }
   ],
   "source": [
    "df_Twenties.loc[df[\"JP_Sales\"].idxmax()]"
   ]
  },
  {
   "cell_type": "markdown",
   "id": "0c2755e4",
   "metadata": {},
   "source": [
    "if I launch a game in Japan I should make a Platform genre game because it is more profitable"
   ]
  },
  {
   "cell_type": "markdown",
   "id": "024960c7",
   "metadata": {},
   "source": [
    "# Which game has the highest critic score"
   ]
  },
  {
   "cell_type": "code",
   "execution_count": 29,
   "id": "94bde32c",
   "metadata": {},
   "outputs": [
    {
     "data": {
      "text/plain": [
       "Name             Grand Theft Auto IV\n",
       "Platform                        X360\n",
       "Year                            2008\n",
       "Genre                         Action\n",
       "Publisher       Take-Two Interactive\n",
       "NA_Sales                        6.76\n",
       "EU_Sales                        3.07\n",
       "JP_Sales                        0.14\n",
       "Other_Sales                     1.03\n",
       "Global_Sales                   11.01\n",
       "Critic_Score                    98.0\n",
       "Critic_Count                    86.0\n",
       "User_Score                       7.9\n",
       "User_Count                    2951.0\n",
       "Rating                             M\n",
       "Name: 51, dtype: object"
      ]
     },
     "execution_count": 29,
     "metadata": {},
     "output_type": "execute_result"
    }
   ],
   "source": [
    "df.loc[df[\"Critic_Score\"].idxmax()]"
   ]
  },
  {
   "cell_type": "markdown",
   "id": "2b1b591b",
   "metadata": {},
   "source": [
    "Grand Theft Auto IV has the highest critic score"
   ]
  },
  {
   "cell_type": "markdown",
   "id": "8aa4d812",
   "metadata": {},
   "source": [
    "# Which game has the highest critic score and user score"
   ]
  },
  {
   "cell_type": "code",
   "execution_count": 30,
   "id": "127e724d",
   "metadata": {},
   "outputs": [
    {
     "data": {
      "text/html": [
       "<div>\n",
       "<style scoped>\n",
       "    .dataframe tbody tr th:only-of-type {\n",
       "        vertical-align: middle;\n",
       "    }\n",
       "\n",
       "    .dataframe tbody tr th {\n",
       "        vertical-align: top;\n",
       "    }\n",
       "\n",
       "    .dataframe thead th {\n",
       "        text-align: right;\n",
       "    }\n",
       "</style>\n",
       "<table border=\"1\" class=\"dataframe\">\n",
       "  <thead>\n",
       "    <tr style=\"text-align: right;\">\n",
       "      <th></th>\n",
       "      <th>Name</th>\n",
       "      <th>Platform</th>\n",
       "      <th>Year</th>\n",
       "      <th>Genre</th>\n",
       "      <th>Publisher</th>\n",
       "      <th>NA_Sales</th>\n",
       "      <th>EU_Sales</th>\n",
       "      <th>JP_Sales</th>\n",
       "      <th>Other_Sales</th>\n",
       "      <th>Global_Sales</th>\n",
       "      <th>Critic_Score</th>\n",
       "      <th>Critic_Count</th>\n",
       "      <th>User_Score</th>\n",
       "      <th>User_Count</th>\n",
       "      <th>Rating</th>\n",
       "    </tr>\n",
       "  </thead>\n",
       "  <tbody>\n",
       "    <tr>\n",
       "      <th>0</th>\n",
       "      <td>Wii Sports</td>\n",
       "      <td>Wii</td>\n",
       "      <td>2006</td>\n",
       "      <td>Sports</td>\n",
       "      <td>Nintendo</td>\n",
       "      <td>41.36</td>\n",
       "      <td>28.96</td>\n",
       "      <td>3.77</td>\n",
       "      <td>8.45</td>\n",
       "      <td>82.53</td>\n",
       "      <td>76.0</td>\n",
       "      <td>51.0</td>\n",
       "      <td>8</td>\n",
       "      <td>322.0</td>\n",
       "      <td>E</td>\n",
       "    </tr>\n",
       "    <tr>\n",
       "      <th>2</th>\n",
       "      <td>Mario Kart Wii</td>\n",
       "      <td>Wii</td>\n",
       "      <td>2008</td>\n",
       "      <td>Racing</td>\n",
       "      <td>Nintendo</td>\n",
       "      <td>15.68</td>\n",
       "      <td>12.76</td>\n",
       "      <td>3.79</td>\n",
       "      <td>3.29</td>\n",
       "      <td>35.52</td>\n",
       "      <td>82.0</td>\n",
       "      <td>73.0</td>\n",
       "      <td>8.3</td>\n",
       "      <td>709.0</td>\n",
       "      <td>E</td>\n",
       "    </tr>\n",
       "    <tr>\n",
       "      <th>3</th>\n",
       "      <td>Wii Sports Resort</td>\n",
       "      <td>Wii</td>\n",
       "      <td>2009</td>\n",
       "      <td>Sports</td>\n",
       "      <td>Nintendo</td>\n",
       "      <td>15.61</td>\n",
       "      <td>10.93</td>\n",
       "      <td>3.28</td>\n",
       "      <td>2.95</td>\n",
       "      <td>32.77</td>\n",
       "      <td>80.0</td>\n",
       "      <td>73.0</td>\n",
       "      <td>8</td>\n",
       "      <td>192.0</td>\n",
       "      <td>E</td>\n",
       "    </tr>\n",
       "    <tr>\n",
       "      <th>6</th>\n",
       "      <td>New Super Mario Bros.</td>\n",
       "      <td>DS</td>\n",
       "      <td>2006</td>\n",
       "      <td>Platform</td>\n",
       "      <td>Nintendo</td>\n",
       "      <td>11.28</td>\n",
       "      <td>9.14</td>\n",
       "      <td>6.50</td>\n",
       "      <td>2.88</td>\n",
       "      <td>29.80</td>\n",
       "      <td>89.0</td>\n",
       "      <td>65.0</td>\n",
       "      <td>8.5</td>\n",
       "      <td>431.0</td>\n",
       "      <td>E</td>\n",
       "    </tr>\n",
       "    <tr>\n",
       "      <th>7</th>\n",
       "      <td>Wii Play</td>\n",
       "      <td>Wii</td>\n",
       "      <td>2006</td>\n",
       "      <td>Misc</td>\n",
       "      <td>Nintendo</td>\n",
       "      <td>13.96</td>\n",
       "      <td>9.18</td>\n",
       "      <td>2.93</td>\n",
       "      <td>2.84</td>\n",
       "      <td>28.92</td>\n",
       "      <td>58.0</td>\n",
       "      <td>41.0</td>\n",
       "      <td>6.6</td>\n",
       "      <td>129.0</td>\n",
       "      <td>E</td>\n",
       "    </tr>\n",
       "  </tbody>\n",
       "</table>\n",
       "</div>"
      ],
      "text/plain": [
       "                    Name Platform  Year     Genre Publisher  NA_Sales  \\\n",
       "0             Wii Sports      Wii  2006    Sports  Nintendo     41.36   \n",
       "2         Mario Kart Wii      Wii  2008    Racing  Nintendo     15.68   \n",
       "3      Wii Sports Resort      Wii  2009    Sports  Nintendo     15.61   \n",
       "6  New Super Mario Bros.       DS  2006  Platform  Nintendo     11.28   \n",
       "7               Wii Play      Wii  2006      Misc  Nintendo     13.96   \n",
       "\n",
       "   EU_Sales  JP_Sales  Other_Sales  Global_Sales  Critic_Score  Critic_Count  \\\n",
       "0     28.96      3.77         8.45         82.53          76.0          51.0   \n",
       "2     12.76      3.79         3.29         35.52          82.0          73.0   \n",
       "3     10.93      3.28         2.95         32.77          80.0          73.0   \n",
       "6      9.14      6.50         2.88         29.80          89.0          65.0   \n",
       "7      9.18      2.93         2.84         28.92          58.0          41.0   \n",
       "\n",
       "  User_Score  User_Count Rating  \n",
       "0          8       322.0      E  \n",
       "2        8.3       709.0      E  \n",
       "3          8       192.0      E  \n",
       "6        8.5       431.0      E  \n",
       "7        6.6       129.0      E  "
      ]
     },
     "execution_count": 30,
     "metadata": {},
     "output_type": "execute_result"
    }
   ],
   "source": [
    "df.head()"
   ]
  },
  {
   "cell_type": "markdown",
   "id": "52661986",
   "metadata": {},
   "source": [
    "### Making a new dataset without \"tbd\" string in User_Score Column"
   ]
  },
  {
   "cell_type": "code",
   "execution_count": 31,
   "id": "55719a9d",
   "metadata": {},
   "outputs": [
    {
     "data": {
      "text/html": [
       "<div>\n",
       "<style scoped>\n",
       "    .dataframe tbody tr th:only-of-type {\n",
       "        vertical-align: middle;\n",
       "    }\n",
       "\n",
       "    .dataframe tbody tr th {\n",
       "        vertical-align: top;\n",
       "    }\n",
       "\n",
       "    .dataframe thead th {\n",
       "        text-align: right;\n",
       "    }\n",
       "</style>\n",
       "<table border=\"1\" class=\"dataframe\">\n",
       "  <thead>\n",
       "    <tr style=\"text-align: right;\">\n",
       "      <th></th>\n",
       "      <th>Name</th>\n",
       "      <th>Platform</th>\n",
       "      <th>Year</th>\n",
       "      <th>Genre</th>\n",
       "      <th>Publisher</th>\n",
       "      <th>NA_Sales</th>\n",
       "      <th>EU_Sales</th>\n",
       "      <th>JP_Sales</th>\n",
       "      <th>Other_Sales</th>\n",
       "      <th>Global_Sales</th>\n",
       "      <th>Critic_Score</th>\n",
       "      <th>Critic_Count</th>\n",
       "      <th>User_Score</th>\n",
       "      <th>User_Count</th>\n",
       "      <th>Rating</th>\n",
       "    </tr>\n",
       "  </thead>\n",
       "  <tbody>\n",
       "    <tr>\n",
       "      <th>119</th>\n",
       "      <td>Zumba Fitness</td>\n",
       "      <td>Wii</td>\n",
       "      <td>2010</td>\n",
       "      <td>Sports</td>\n",
       "      <td>505 Games</td>\n",
       "      <td>3.45</td>\n",
       "      <td>2.59</td>\n",
       "      <td>0.0</td>\n",
       "      <td>0.66</td>\n",
       "      <td>6.71</td>\n",
       "      <td>69.001396</td>\n",
       "      <td>26.562778</td>\n",
       "      <td>tbd</td>\n",
       "      <td>163.521008</td>\n",
       "      <td>E</td>\n",
       "    </tr>\n",
       "    <tr>\n",
       "      <th>301</th>\n",
       "      <td>Namco Museum: 50th Anniversary</td>\n",
       "      <td>PS2</td>\n",
       "      <td>2005</td>\n",
       "      <td>Misc</td>\n",
       "      <td>Namco Bandai Games</td>\n",
       "      <td>2.08</td>\n",
       "      <td>1.35</td>\n",
       "      <td>0.0</td>\n",
       "      <td>0.54</td>\n",
       "      <td>3.98</td>\n",
       "      <td>61.000000</td>\n",
       "      <td>21.000000</td>\n",
       "      <td>tbd</td>\n",
       "      <td>163.521008</td>\n",
       "      <td>E10+</td>\n",
       "    </tr>\n",
       "    <tr>\n",
       "      <th>520</th>\n",
       "      <td>Zumba Fitness 2</td>\n",
       "      <td>Wii</td>\n",
       "      <td>2011</td>\n",
       "      <td>Sports</td>\n",
       "      <td>Majesco Entertainment</td>\n",
       "      <td>1.51</td>\n",
       "      <td>1.03</td>\n",
       "      <td>0.0</td>\n",
       "      <td>0.27</td>\n",
       "      <td>2.81</td>\n",
       "      <td>69.001396</td>\n",
       "      <td>26.562778</td>\n",
       "      <td>tbd</td>\n",
       "      <td>163.521008</td>\n",
       "      <td>T</td>\n",
       "    </tr>\n",
       "    <tr>\n",
       "      <th>645</th>\n",
       "      <td>uDraw Studio</td>\n",
       "      <td>Wii</td>\n",
       "      <td>2010</td>\n",
       "      <td>Misc</td>\n",
       "      <td>THQ</td>\n",
       "      <td>1.65</td>\n",
       "      <td>0.57</td>\n",
       "      <td>0.0</td>\n",
       "      <td>0.20</td>\n",
       "      <td>2.42</td>\n",
       "      <td>71.000000</td>\n",
       "      <td>9.000000</td>\n",
       "      <td>tbd</td>\n",
       "      <td>163.521008</td>\n",
       "      <td>E</td>\n",
       "    </tr>\n",
       "    <tr>\n",
       "      <th>718</th>\n",
       "      <td>Just Dance Kids</td>\n",
       "      <td>Wii</td>\n",
       "      <td>2010</td>\n",
       "      <td>Misc</td>\n",
       "      <td>Ubisoft</td>\n",
       "      <td>1.52</td>\n",
       "      <td>0.54</td>\n",
       "      <td>0.0</td>\n",
       "      <td>0.18</td>\n",
       "      <td>2.24</td>\n",
       "      <td>69.001396</td>\n",
       "      <td>26.562778</td>\n",
       "      <td>tbd</td>\n",
       "      <td>163.521008</td>\n",
       "      <td>E</td>\n",
       "    </tr>\n",
       "  </tbody>\n",
       "</table>\n",
       "</div>"
      ],
      "text/plain": [
       "                               Name Platform  Year   Genre  \\\n",
       "119                   Zumba Fitness      Wii  2010  Sports   \n",
       "301  Namco Museum: 50th Anniversary      PS2  2005    Misc   \n",
       "520                 Zumba Fitness 2      Wii  2011  Sports   \n",
       "645                    uDraw Studio      Wii  2010    Misc   \n",
       "718                 Just Dance Kids      Wii  2010    Misc   \n",
       "\n",
       "                 Publisher  NA_Sales  EU_Sales  JP_Sales  Other_Sales  \\\n",
       "119              505 Games      3.45      2.59       0.0         0.66   \n",
       "301     Namco Bandai Games      2.08      1.35       0.0         0.54   \n",
       "520  Majesco Entertainment      1.51      1.03       0.0         0.27   \n",
       "645                    THQ      1.65      0.57       0.0         0.20   \n",
       "718                Ubisoft      1.52      0.54       0.0         0.18   \n",
       "\n",
       "     Global_Sales  Critic_Score  Critic_Count User_Score  User_Count Rating  \n",
       "119          6.71     69.001396     26.562778        tbd  163.521008      E  \n",
       "301          3.98     61.000000     21.000000        tbd  163.521008   E10+  \n",
       "520          2.81     69.001396     26.562778        tbd  163.521008      T  \n",
       "645          2.42     71.000000      9.000000        tbd  163.521008      E  \n",
       "718          2.24     69.001396     26.562778        tbd  163.521008      E  "
      ]
     },
     "execution_count": 31,
     "metadata": {},
     "output_type": "execute_result"
    }
   ],
   "source": [
    "df[df[\"User_Score\"] == \"tbd\"].head()"
   ]
  },
  {
   "cell_type": "code",
   "execution_count": 32,
   "id": "c7a72fe3",
   "metadata": {},
   "outputs": [],
   "source": [
    "df_User_Score_WO_tbd = df[df[\"User_Score\"].str.contains(\"tbd\")==False]"
   ]
  },
  {
   "cell_type": "code",
   "execution_count": 33,
   "id": "0a832202",
   "metadata": {},
   "outputs": [
    {
     "data": {
      "text/html": [
       "<div>\n",
       "<style scoped>\n",
       "    .dataframe tbody tr th:only-of-type {\n",
       "        vertical-align: middle;\n",
       "    }\n",
       "\n",
       "    .dataframe tbody tr th {\n",
       "        vertical-align: top;\n",
       "    }\n",
       "\n",
       "    .dataframe thead th {\n",
       "        text-align: right;\n",
       "    }\n",
       "</style>\n",
       "<table border=\"1\" class=\"dataframe\">\n",
       "  <thead>\n",
       "    <tr style=\"text-align: right;\">\n",
       "      <th></th>\n",
       "      <th>Name</th>\n",
       "      <th>Platform</th>\n",
       "      <th>Year</th>\n",
       "      <th>Genre</th>\n",
       "      <th>Publisher</th>\n",
       "      <th>NA_Sales</th>\n",
       "      <th>EU_Sales</th>\n",
       "      <th>JP_Sales</th>\n",
       "      <th>Other_Sales</th>\n",
       "      <th>Global_Sales</th>\n",
       "      <th>Critic_Score</th>\n",
       "      <th>Critic_Count</th>\n",
       "      <th>User_Score</th>\n",
       "      <th>User_Count</th>\n",
       "      <th>Rating</th>\n",
       "    </tr>\n",
       "  </thead>\n",
       "  <tbody>\n",
       "    <tr>\n",
       "      <th>0</th>\n",
       "      <td>Wii Sports</td>\n",
       "      <td>Wii</td>\n",
       "      <td>2006</td>\n",
       "      <td>Sports</td>\n",
       "      <td>Nintendo</td>\n",
       "      <td>41.36</td>\n",
       "      <td>28.96</td>\n",
       "      <td>3.77</td>\n",
       "      <td>8.45</td>\n",
       "      <td>82.53</td>\n",
       "      <td>76.0</td>\n",
       "      <td>51.0</td>\n",
       "      <td>8</td>\n",
       "      <td>322.0</td>\n",
       "      <td>E</td>\n",
       "    </tr>\n",
       "    <tr>\n",
       "      <th>2</th>\n",
       "      <td>Mario Kart Wii</td>\n",
       "      <td>Wii</td>\n",
       "      <td>2008</td>\n",
       "      <td>Racing</td>\n",
       "      <td>Nintendo</td>\n",
       "      <td>15.68</td>\n",
       "      <td>12.76</td>\n",
       "      <td>3.79</td>\n",
       "      <td>3.29</td>\n",
       "      <td>35.52</td>\n",
       "      <td>82.0</td>\n",
       "      <td>73.0</td>\n",
       "      <td>8.3</td>\n",
       "      <td>709.0</td>\n",
       "      <td>E</td>\n",
       "    </tr>\n",
       "    <tr>\n",
       "      <th>3</th>\n",
       "      <td>Wii Sports Resort</td>\n",
       "      <td>Wii</td>\n",
       "      <td>2009</td>\n",
       "      <td>Sports</td>\n",
       "      <td>Nintendo</td>\n",
       "      <td>15.61</td>\n",
       "      <td>10.93</td>\n",
       "      <td>3.28</td>\n",
       "      <td>2.95</td>\n",
       "      <td>32.77</td>\n",
       "      <td>80.0</td>\n",
       "      <td>73.0</td>\n",
       "      <td>8</td>\n",
       "      <td>192.0</td>\n",
       "      <td>E</td>\n",
       "    </tr>\n",
       "    <tr>\n",
       "      <th>6</th>\n",
       "      <td>New Super Mario Bros.</td>\n",
       "      <td>DS</td>\n",
       "      <td>2006</td>\n",
       "      <td>Platform</td>\n",
       "      <td>Nintendo</td>\n",
       "      <td>11.28</td>\n",
       "      <td>9.14</td>\n",
       "      <td>6.50</td>\n",
       "      <td>2.88</td>\n",
       "      <td>29.80</td>\n",
       "      <td>89.0</td>\n",
       "      <td>65.0</td>\n",
       "      <td>8.5</td>\n",
       "      <td>431.0</td>\n",
       "      <td>E</td>\n",
       "    </tr>\n",
       "    <tr>\n",
       "      <th>7</th>\n",
       "      <td>Wii Play</td>\n",
       "      <td>Wii</td>\n",
       "      <td>2006</td>\n",
       "      <td>Misc</td>\n",
       "      <td>Nintendo</td>\n",
       "      <td>13.96</td>\n",
       "      <td>9.18</td>\n",
       "      <td>2.93</td>\n",
       "      <td>2.84</td>\n",
       "      <td>28.92</td>\n",
       "      <td>58.0</td>\n",
       "      <td>41.0</td>\n",
       "      <td>6.6</td>\n",
       "      <td>129.0</td>\n",
       "      <td>E</td>\n",
       "    </tr>\n",
       "  </tbody>\n",
       "</table>\n",
       "</div>"
      ],
      "text/plain": [
       "                    Name Platform  Year     Genre Publisher  NA_Sales  \\\n",
       "0             Wii Sports      Wii  2006    Sports  Nintendo     41.36   \n",
       "2         Mario Kart Wii      Wii  2008    Racing  Nintendo     15.68   \n",
       "3      Wii Sports Resort      Wii  2009    Sports  Nintendo     15.61   \n",
       "6  New Super Mario Bros.       DS  2006  Platform  Nintendo     11.28   \n",
       "7               Wii Play      Wii  2006      Misc  Nintendo     13.96   \n",
       "\n",
       "   EU_Sales  JP_Sales  Other_Sales  Global_Sales  Critic_Score  Critic_Count  \\\n",
       "0     28.96      3.77         8.45         82.53          76.0          51.0   \n",
       "2     12.76      3.79         3.29         35.52          82.0          73.0   \n",
       "3     10.93      3.28         2.95         32.77          80.0          73.0   \n",
       "6      9.14      6.50         2.88         29.80          89.0          65.0   \n",
       "7      9.18      2.93         2.84         28.92          58.0          41.0   \n",
       "\n",
       "  User_Score  User_Count Rating  \n",
       "0          8       322.0      E  \n",
       "2        8.3       709.0      E  \n",
       "3          8       192.0      E  \n",
       "6        8.5       431.0      E  \n",
       "7        6.6       129.0      E  "
      ]
     },
     "execution_count": 33,
     "metadata": {},
     "output_type": "execute_result"
    }
   ],
   "source": [
    "df_User_Score_WO_tbd.head()"
   ]
  },
  {
   "cell_type": "markdown",
   "id": "b34969f8",
   "metadata": {},
   "source": [
    "### Coverting User_Score Column into float"
   ]
  },
  {
   "cell_type": "code",
   "execution_count": 34,
   "id": "c5f05123",
   "metadata": {},
   "outputs": [
    {
     "name": "stderr",
     "output_type": "stream",
     "text": [
      "C:\\Users\\Dell\\AppData\\Local\\Temp\\ipykernel_7856\\339321632.py:1: SettingWithCopyWarning: \n",
      "A value is trying to be set on a copy of a slice from a DataFrame.\n",
      "Try using .loc[row_indexer,col_indexer] = value instead\n",
      "\n",
      "See the caveats in the documentation: https://pandas.pydata.org/pandas-docs/stable/user_guide/indexing.html#returning-a-view-versus-a-copy\n",
      "  df_User_Score_WO_tbd[\"User_Score\"] = df_User_Score_WO_tbd[\"User_Score\"].astype(float)\n"
     ]
    }
   ],
   "source": [
    "df_User_Score_WO_tbd[\"User_Score\"] = df_User_Score_WO_tbd[\"User_Score\"].astype(float)"
   ]
  },
  {
   "cell_type": "code",
   "execution_count": 35,
   "id": "f81d3777",
   "metadata": {},
   "outputs": [
    {
     "data": {
      "text/html": [
       "<div>\n",
       "<style scoped>\n",
       "    .dataframe tbody tr th:only-of-type {\n",
       "        vertical-align: middle;\n",
       "    }\n",
       "\n",
       "    .dataframe tbody tr th {\n",
       "        vertical-align: top;\n",
       "    }\n",
       "\n",
       "    .dataframe thead th {\n",
       "        text-align: right;\n",
       "    }\n",
       "</style>\n",
       "<table border=\"1\" class=\"dataframe\">\n",
       "  <thead>\n",
       "    <tr style=\"text-align: right;\">\n",
       "      <th></th>\n",
       "      <th>Name</th>\n",
       "      <th>Platform</th>\n",
       "      <th>Year</th>\n",
       "      <th>Genre</th>\n",
       "      <th>Publisher</th>\n",
       "      <th>NA_Sales</th>\n",
       "      <th>EU_Sales</th>\n",
       "      <th>JP_Sales</th>\n",
       "      <th>Other_Sales</th>\n",
       "      <th>Global_Sales</th>\n",
       "      <th>Critic_Score</th>\n",
       "      <th>Critic_Count</th>\n",
       "      <th>User_Score</th>\n",
       "      <th>User_Count</th>\n",
       "      <th>Rating</th>\n",
       "    </tr>\n",
       "  </thead>\n",
       "  <tbody>\n",
       "    <tr>\n",
       "      <th>0</th>\n",
       "      <td>Wii Sports</td>\n",
       "      <td>Wii</td>\n",
       "      <td>2006</td>\n",
       "      <td>Sports</td>\n",
       "      <td>Nintendo</td>\n",
       "      <td>41.36</td>\n",
       "      <td>28.96</td>\n",
       "      <td>3.77</td>\n",
       "      <td>8.45</td>\n",
       "      <td>82.53</td>\n",
       "      <td>76.0</td>\n",
       "      <td>51.0</td>\n",
       "      <td>8.0</td>\n",
       "      <td>322.0</td>\n",
       "      <td>E</td>\n",
       "    </tr>\n",
       "    <tr>\n",
       "      <th>2</th>\n",
       "      <td>Mario Kart Wii</td>\n",
       "      <td>Wii</td>\n",
       "      <td>2008</td>\n",
       "      <td>Racing</td>\n",
       "      <td>Nintendo</td>\n",
       "      <td>15.68</td>\n",
       "      <td>12.76</td>\n",
       "      <td>3.79</td>\n",
       "      <td>3.29</td>\n",
       "      <td>35.52</td>\n",
       "      <td>82.0</td>\n",
       "      <td>73.0</td>\n",
       "      <td>8.3</td>\n",
       "      <td>709.0</td>\n",
       "      <td>E</td>\n",
       "    </tr>\n",
       "    <tr>\n",
       "      <th>3</th>\n",
       "      <td>Wii Sports Resort</td>\n",
       "      <td>Wii</td>\n",
       "      <td>2009</td>\n",
       "      <td>Sports</td>\n",
       "      <td>Nintendo</td>\n",
       "      <td>15.61</td>\n",
       "      <td>10.93</td>\n",
       "      <td>3.28</td>\n",
       "      <td>2.95</td>\n",
       "      <td>32.77</td>\n",
       "      <td>80.0</td>\n",
       "      <td>73.0</td>\n",
       "      <td>8.0</td>\n",
       "      <td>192.0</td>\n",
       "      <td>E</td>\n",
       "    </tr>\n",
       "    <tr>\n",
       "      <th>6</th>\n",
       "      <td>New Super Mario Bros.</td>\n",
       "      <td>DS</td>\n",
       "      <td>2006</td>\n",
       "      <td>Platform</td>\n",
       "      <td>Nintendo</td>\n",
       "      <td>11.28</td>\n",
       "      <td>9.14</td>\n",
       "      <td>6.50</td>\n",
       "      <td>2.88</td>\n",
       "      <td>29.80</td>\n",
       "      <td>89.0</td>\n",
       "      <td>65.0</td>\n",
       "      <td>8.5</td>\n",
       "      <td>431.0</td>\n",
       "      <td>E</td>\n",
       "    </tr>\n",
       "    <tr>\n",
       "      <th>7</th>\n",
       "      <td>Wii Play</td>\n",
       "      <td>Wii</td>\n",
       "      <td>2006</td>\n",
       "      <td>Misc</td>\n",
       "      <td>Nintendo</td>\n",
       "      <td>13.96</td>\n",
       "      <td>9.18</td>\n",
       "      <td>2.93</td>\n",
       "      <td>2.84</td>\n",
       "      <td>28.92</td>\n",
       "      <td>58.0</td>\n",
       "      <td>41.0</td>\n",
       "      <td>6.6</td>\n",
       "      <td>129.0</td>\n",
       "      <td>E</td>\n",
       "    </tr>\n",
       "  </tbody>\n",
       "</table>\n",
       "</div>"
      ],
      "text/plain": [
       "                    Name Platform  Year     Genre Publisher  NA_Sales  \\\n",
       "0             Wii Sports      Wii  2006    Sports  Nintendo     41.36   \n",
       "2         Mario Kart Wii      Wii  2008    Racing  Nintendo     15.68   \n",
       "3      Wii Sports Resort      Wii  2009    Sports  Nintendo     15.61   \n",
       "6  New Super Mario Bros.       DS  2006  Platform  Nintendo     11.28   \n",
       "7               Wii Play      Wii  2006      Misc  Nintendo     13.96   \n",
       "\n",
       "   EU_Sales  JP_Sales  Other_Sales  Global_Sales  Critic_Score  Critic_Count  \\\n",
       "0     28.96      3.77         8.45         82.53          76.0          51.0   \n",
       "2     12.76      3.79         3.29         35.52          82.0          73.0   \n",
       "3     10.93      3.28         2.95         32.77          80.0          73.0   \n",
       "6      9.14      6.50         2.88         29.80          89.0          65.0   \n",
       "7      9.18      2.93         2.84         28.92          58.0          41.0   \n",
       "\n",
       "   User_Score  User_Count Rating  \n",
       "0         8.0       322.0      E  \n",
       "2         8.3       709.0      E  \n",
       "3         8.0       192.0      E  \n",
       "6         8.5       431.0      E  \n",
       "7         6.6       129.0      E  "
      ]
     },
     "execution_count": 35,
     "metadata": {},
     "output_type": "execute_result"
    }
   ],
   "source": [
    "df_User_Score_WO_tbd.head()"
   ]
  },
  {
   "cell_type": "code",
   "execution_count": 36,
   "id": "1bf16c67",
   "metadata": {},
   "outputs": [
    {
     "name": "stdout",
     "output_type": "stream",
     "text": [
      "<class 'pandas.core.frame.DataFrame'>\n",
      "Int64Index: 7378 entries, 0 to 16706\n",
      "Data columns (total 15 columns):\n",
      " #   Column        Non-Null Count  Dtype  \n",
      "---  ------        --------------  -----  \n",
      " 0   Name          7378 non-null   object \n",
      " 1   Platform      7378 non-null   object \n",
      " 2   Year          7378 non-null   int32  \n",
      " 3   Genre         7378 non-null   object \n",
      " 4   Publisher     7378 non-null   object \n",
      " 5   NA_Sales      7378 non-null   float64\n",
      " 6   EU_Sales      7378 non-null   float64\n",
      " 7   JP_Sales      7378 non-null   float64\n",
      " 8   Other_Sales   7378 non-null   float64\n",
      " 9   Global_Sales  7378 non-null   float64\n",
      " 10  Critic_Score  7378 non-null   float64\n",
      " 11  Critic_Count  7378 non-null   float64\n",
      " 12  User_Score    7378 non-null   float64\n",
      " 13  User_Count    7378 non-null   float64\n",
      " 14  Rating        7378 non-null   object \n",
      "dtypes: float64(9), int32(1), object(5)\n",
      "memory usage: 893.4+ KB\n"
     ]
    }
   ],
   "source": [
    "df_User_Score_WO_tbd.info()"
   ]
  },
  {
   "cell_type": "markdown",
   "id": "706a0c5a",
   "metadata": {},
   "source": [
    "### Finding the highest rated user score and making it in a new dataframe"
   ]
  },
  {
   "cell_type": "code",
   "execution_count": 37,
   "id": "0fcff881",
   "metadata": {},
   "outputs": [],
   "source": [
    "df_User_Score_WO_tbd_highest_rated = df_User_Score_WO_tbd[df_User_Score_WO_tbd[\"User_Score\"]>9.0]"
   ]
  },
  {
   "cell_type": "code",
   "execution_count": 38,
   "id": "3a8fa396",
   "metadata": {},
   "outputs": [
    {
     "data": {
      "text/html": [
       "<div>\n",
       "<style scoped>\n",
       "    .dataframe tbody tr th:only-of-type {\n",
       "        vertical-align: middle;\n",
       "    }\n",
       "\n",
       "    .dataframe tbody tr th {\n",
       "        vertical-align: top;\n",
       "    }\n",
       "\n",
       "    .dataframe thead th {\n",
       "        text-align: right;\n",
       "    }\n",
       "</style>\n",
       "<table border=\"1\" class=\"dataframe\">\n",
       "  <thead>\n",
       "    <tr style=\"text-align: right;\">\n",
       "      <th></th>\n",
       "      <th>Name</th>\n",
       "      <th>Platform</th>\n",
       "      <th>Year</th>\n",
       "      <th>Genre</th>\n",
       "      <th>Publisher</th>\n",
       "      <th>NA_Sales</th>\n",
       "      <th>EU_Sales</th>\n",
       "      <th>JP_Sales</th>\n",
       "      <th>Other_Sales</th>\n",
       "      <th>Global_Sales</th>\n",
       "      <th>Critic_Score</th>\n",
       "      <th>Critic_Count</th>\n",
       "      <th>User_Score</th>\n",
       "      <th>User_Count</th>\n",
       "      <th>Rating</th>\n",
       "    </tr>\n",
       "  </thead>\n",
       "  <tbody>\n",
       "    <tr>\n",
       "      <th>65</th>\n",
       "      <td>Final Fantasy VII</td>\n",
       "      <td>PS</td>\n",
       "      <td>1997</td>\n",
       "      <td>Role-Playing</td>\n",
       "      <td>Sony Computer Entertainment</td>\n",
       "      <td>3.01</td>\n",
       "      <td>2.47</td>\n",
       "      <td>3.28</td>\n",
       "      <td>0.96</td>\n",
       "      <td>9.72</td>\n",
       "      <td>92.0</td>\n",
       "      <td>20.0</td>\n",
       "      <td>9.2</td>\n",
       "      <td>1282.0</td>\n",
       "      <td>T</td>\n",
       "    </tr>\n",
       "    <tr>\n",
       "      <th>97</th>\n",
       "      <td>Super Mario Galaxy 2</td>\n",
       "      <td>Wii</td>\n",
       "      <td>2010</td>\n",
       "      <td>Platform</td>\n",
       "      <td>Nintendo</td>\n",
       "      <td>3.56</td>\n",
       "      <td>2.35</td>\n",
       "      <td>0.98</td>\n",
       "      <td>0.62</td>\n",
       "      <td>7.51</td>\n",
       "      <td>97.0</td>\n",
       "      <td>87.0</td>\n",
       "      <td>9.1</td>\n",
       "      <td>1854.0</td>\n",
       "      <td>E</td>\n",
       "    </tr>\n",
       "    <tr>\n",
       "      <th>106</th>\n",
       "      <td>Tekken 3</td>\n",
       "      <td>PS</td>\n",
       "      <td>1998</td>\n",
       "      <td>Fighting</td>\n",
       "      <td>Sony Computer Entertainment</td>\n",
       "      <td>3.27</td>\n",
       "      <td>2.22</td>\n",
       "      <td>1.40</td>\n",
       "      <td>0.29</td>\n",
       "      <td>7.16</td>\n",
       "      <td>96.0</td>\n",
       "      <td>15.0</td>\n",
       "      <td>9.1</td>\n",
       "      <td>367.0</td>\n",
       "      <td>T</td>\n",
       "    </tr>\n",
       "    <tr>\n",
       "      <th>110</th>\n",
       "      <td>Mario Kart 8</td>\n",
       "      <td>WiiU</td>\n",
       "      <td>2014</td>\n",
       "      <td>Racing</td>\n",
       "      <td>Nintendo</td>\n",
       "      <td>3.15</td>\n",
       "      <td>2.15</td>\n",
       "      <td>1.28</td>\n",
       "      <td>0.51</td>\n",
       "      <td>7.09</td>\n",
       "      <td>88.0</td>\n",
       "      <td>82.0</td>\n",
       "      <td>9.1</td>\n",
       "      <td>1599.0</td>\n",
       "      <td>E</td>\n",
       "    </tr>\n",
       "    <tr>\n",
       "      <th>111</th>\n",
       "      <td>Super Smash Bros. Melee</td>\n",
       "      <td>GC</td>\n",
       "      <td>2001</td>\n",
       "      <td>Fighting</td>\n",
       "      <td>Nintendo</td>\n",
       "      <td>4.41</td>\n",
       "      <td>1.04</td>\n",
       "      <td>1.39</td>\n",
       "      <td>0.22</td>\n",
       "      <td>7.07</td>\n",
       "      <td>92.0</td>\n",
       "      <td>38.0</td>\n",
       "      <td>9.1</td>\n",
       "      <td>568.0</td>\n",
       "      <td>T</td>\n",
       "    </tr>\n",
       "  </tbody>\n",
       "</table>\n",
       "</div>"
      ],
      "text/plain": [
       "                        Name Platform  Year         Genre  \\\n",
       "65         Final Fantasy VII       PS  1997  Role-Playing   \n",
       "97      Super Mario Galaxy 2      Wii  2010      Platform   \n",
       "106                 Tekken 3       PS  1998      Fighting   \n",
       "110             Mario Kart 8     WiiU  2014        Racing   \n",
       "111  Super Smash Bros. Melee       GC  2001      Fighting   \n",
       "\n",
       "                       Publisher  NA_Sales  EU_Sales  JP_Sales  Other_Sales  \\\n",
       "65   Sony Computer Entertainment      3.01      2.47      3.28         0.96   \n",
       "97                      Nintendo      3.56      2.35      0.98         0.62   \n",
       "106  Sony Computer Entertainment      3.27      2.22      1.40         0.29   \n",
       "110                     Nintendo      3.15      2.15      1.28         0.51   \n",
       "111                     Nintendo      4.41      1.04      1.39         0.22   \n",
       "\n",
       "     Global_Sales  Critic_Score  Critic_Count  User_Score  User_Count Rating  \n",
       "65           9.72          92.0          20.0         9.2      1282.0      T  \n",
       "97           7.51          97.0          87.0         9.1      1854.0      E  \n",
       "106          7.16          96.0          15.0         9.1       367.0      T  \n",
       "110          7.09          88.0          82.0         9.1      1599.0      E  \n",
       "111          7.07          92.0          38.0         9.1       568.0      T  "
      ]
     },
     "execution_count": 38,
     "metadata": {},
     "output_type": "execute_result"
    }
   ],
   "source": [
    "df_User_Score_WO_tbd_highest_rated.head()"
   ]
  },
  {
   "cell_type": "markdown",
   "id": "d02b4dd3",
   "metadata": {},
   "source": [
    "### Converting Critic Score Column's score out of 10 instead of 100"
   ]
  },
  {
   "cell_type": "code",
   "execution_count": 39,
   "id": "2891992b",
   "metadata": {},
   "outputs": [
    {
     "name": "stderr",
     "output_type": "stream",
     "text": [
      "C:\\Users\\Dell\\AppData\\Local\\Temp\\ipykernel_7856\\1077992101.py:1: SettingWithCopyWarning: \n",
      "A value is trying to be set on a copy of a slice from a DataFrame.\n",
      "Try using .loc[row_indexer,col_indexer] = value instead\n",
      "\n",
      "See the caveats in the documentation: https://pandas.pydata.org/pandas-docs/stable/user_guide/indexing.html#returning-a-view-versus-a-copy\n",
      "  df_User_Score_WO_tbd_highest_rated[\"Critic_Score\"] = (df_User_Score_WO_tbd_highest_rated[\"Critic_Score\"]/100)*10\n"
     ]
    }
   ],
   "source": [
    "df_User_Score_WO_tbd_highest_rated[\"Critic_Score\"] = (df_User_Score_WO_tbd_highest_rated[\"Critic_Score\"]/100)*10"
   ]
  },
  {
   "cell_type": "code",
   "execution_count": 40,
   "id": "cd1ce199",
   "metadata": {},
   "outputs": [
    {
     "data": {
      "text/html": [
       "<div>\n",
       "<style scoped>\n",
       "    .dataframe tbody tr th:only-of-type {\n",
       "        vertical-align: middle;\n",
       "    }\n",
       "\n",
       "    .dataframe tbody tr th {\n",
       "        vertical-align: top;\n",
       "    }\n",
       "\n",
       "    .dataframe thead th {\n",
       "        text-align: right;\n",
       "    }\n",
       "</style>\n",
       "<table border=\"1\" class=\"dataframe\">\n",
       "  <thead>\n",
       "    <tr style=\"text-align: right;\">\n",
       "      <th></th>\n",
       "      <th>Name</th>\n",
       "      <th>Platform</th>\n",
       "      <th>Year</th>\n",
       "      <th>Genre</th>\n",
       "      <th>Publisher</th>\n",
       "      <th>NA_Sales</th>\n",
       "      <th>EU_Sales</th>\n",
       "      <th>JP_Sales</th>\n",
       "      <th>Other_Sales</th>\n",
       "      <th>Global_Sales</th>\n",
       "      <th>Critic_Score</th>\n",
       "      <th>Critic_Count</th>\n",
       "      <th>User_Score</th>\n",
       "      <th>User_Count</th>\n",
       "      <th>Rating</th>\n",
       "    </tr>\n",
       "  </thead>\n",
       "  <tbody>\n",
       "    <tr>\n",
       "      <th>65</th>\n",
       "      <td>Final Fantasy VII</td>\n",
       "      <td>PS</td>\n",
       "      <td>1997</td>\n",
       "      <td>Role-Playing</td>\n",
       "      <td>Sony Computer Entertainment</td>\n",
       "      <td>3.01</td>\n",
       "      <td>2.47</td>\n",
       "      <td>3.28</td>\n",
       "      <td>0.96</td>\n",
       "      <td>9.72</td>\n",
       "      <td>9.2</td>\n",
       "      <td>20.0</td>\n",
       "      <td>9.2</td>\n",
       "      <td>1282.0</td>\n",
       "      <td>T</td>\n",
       "    </tr>\n",
       "    <tr>\n",
       "      <th>97</th>\n",
       "      <td>Super Mario Galaxy 2</td>\n",
       "      <td>Wii</td>\n",
       "      <td>2010</td>\n",
       "      <td>Platform</td>\n",
       "      <td>Nintendo</td>\n",
       "      <td>3.56</td>\n",
       "      <td>2.35</td>\n",
       "      <td>0.98</td>\n",
       "      <td>0.62</td>\n",
       "      <td>7.51</td>\n",
       "      <td>9.7</td>\n",
       "      <td>87.0</td>\n",
       "      <td>9.1</td>\n",
       "      <td>1854.0</td>\n",
       "      <td>E</td>\n",
       "    </tr>\n",
       "    <tr>\n",
       "      <th>106</th>\n",
       "      <td>Tekken 3</td>\n",
       "      <td>PS</td>\n",
       "      <td>1998</td>\n",
       "      <td>Fighting</td>\n",
       "      <td>Sony Computer Entertainment</td>\n",
       "      <td>3.27</td>\n",
       "      <td>2.22</td>\n",
       "      <td>1.40</td>\n",
       "      <td>0.29</td>\n",
       "      <td>7.16</td>\n",
       "      <td>9.6</td>\n",
       "      <td>15.0</td>\n",
       "      <td>9.1</td>\n",
       "      <td>367.0</td>\n",
       "      <td>T</td>\n",
       "    </tr>\n",
       "    <tr>\n",
       "      <th>110</th>\n",
       "      <td>Mario Kart 8</td>\n",
       "      <td>WiiU</td>\n",
       "      <td>2014</td>\n",
       "      <td>Racing</td>\n",
       "      <td>Nintendo</td>\n",
       "      <td>3.15</td>\n",
       "      <td>2.15</td>\n",
       "      <td>1.28</td>\n",
       "      <td>0.51</td>\n",
       "      <td>7.09</td>\n",
       "      <td>8.8</td>\n",
       "      <td>82.0</td>\n",
       "      <td>9.1</td>\n",
       "      <td>1599.0</td>\n",
       "      <td>E</td>\n",
       "    </tr>\n",
       "    <tr>\n",
       "      <th>111</th>\n",
       "      <td>Super Smash Bros. Melee</td>\n",
       "      <td>GC</td>\n",
       "      <td>2001</td>\n",
       "      <td>Fighting</td>\n",
       "      <td>Nintendo</td>\n",
       "      <td>4.41</td>\n",
       "      <td>1.04</td>\n",
       "      <td>1.39</td>\n",
       "      <td>0.22</td>\n",
       "      <td>7.07</td>\n",
       "      <td>9.2</td>\n",
       "      <td>38.0</td>\n",
       "      <td>9.1</td>\n",
       "      <td>568.0</td>\n",
       "      <td>T</td>\n",
       "    </tr>\n",
       "  </tbody>\n",
       "</table>\n",
       "</div>"
      ],
      "text/plain": [
       "                        Name Platform  Year         Genre  \\\n",
       "65         Final Fantasy VII       PS  1997  Role-Playing   \n",
       "97      Super Mario Galaxy 2      Wii  2010      Platform   \n",
       "106                 Tekken 3       PS  1998      Fighting   \n",
       "110             Mario Kart 8     WiiU  2014        Racing   \n",
       "111  Super Smash Bros. Melee       GC  2001      Fighting   \n",
       "\n",
       "                       Publisher  NA_Sales  EU_Sales  JP_Sales  Other_Sales  \\\n",
       "65   Sony Computer Entertainment      3.01      2.47      3.28         0.96   \n",
       "97                      Nintendo      3.56      2.35      0.98         0.62   \n",
       "106  Sony Computer Entertainment      3.27      2.22      1.40         0.29   \n",
       "110                     Nintendo      3.15      2.15      1.28         0.51   \n",
       "111                     Nintendo      4.41      1.04      1.39         0.22   \n",
       "\n",
       "     Global_Sales  Critic_Score  Critic_Count  User_Score  User_Count Rating  \n",
       "65           9.72           9.2          20.0         9.2      1282.0      T  \n",
       "97           7.51           9.7          87.0         9.1      1854.0      E  \n",
       "106          7.16           9.6          15.0         9.1       367.0      T  \n",
       "110          7.09           8.8          82.0         9.1      1599.0      E  \n",
       "111          7.07           9.2          38.0         9.1       568.0      T  "
      ]
     },
     "execution_count": 40,
     "metadata": {},
     "output_type": "execute_result"
    }
   ],
   "source": [
    "df_User_Score_WO_tbd_highest_rated.head()"
   ]
  },
  {
   "cell_type": "code",
   "execution_count": 41,
   "id": "f46fc871",
   "metadata": {},
   "outputs": [
    {
     "data": {
      "image/png": "[encoded data removed]",
      "text/plain": [
       "<Figure size 2400x1400 with 1 Axes>"
      ]
     },
     "metadata": {
      "needs_background": "light"
     },
     "output_type": "display_data"
    }
   ],
   "source": [
    "plt.figure(figsize = (12,7),dpi = 200)\n",
    "sns.scatterplot(data = df_User_Score_WO_tbd_highest_rated,x = \"Critic_Count\",y = \"Critic_Score\",hue = \"User_Score\",size = \"User_Count\",palette =\"Dark2\")\n",
    "plt.show()"
   ]
  },
  {
   "cell_type": "code",
   "execution_count": 42,
   "id": "e00bbffa",
   "metadata": {},
   "outputs": [
    {
     "data": {
      "text/html": [
       "<div>\n",
       "<style scoped>\n",
       "    .dataframe tbody tr th:only-of-type {\n",
       "        vertical-align: middle;\n",
       "    }\n",
       "\n",
       "    .dataframe tbody tr th {\n",
       "        vertical-align: top;\n",
       "    }\n",
       "\n",
       "    .dataframe thead th {\n",
       "        text-align: right;\n",
       "    }\n",
       "</style>\n",
       "<table border=\"1\" class=\"dataframe\">\n",
       "  <thead>\n",
       "    <tr style=\"text-align: right;\">\n",
       "      <th></th>\n",
       "      <th>Name</th>\n",
       "      <th>Platform</th>\n",
       "      <th>Year</th>\n",
       "      <th>Genre</th>\n",
       "      <th>Publisher</th>\n",
       "      <th>NA_Sales</th>\n",
       "      <th>EU_Sales</th>\n",
       "      <th>JP_Sales</th>\n",
       "      <th>Other_Sales</th>\n",
       "      <th>Global_Sales</th>\n",
       "      <th>Critic_Score</th>\n",
       "      <th>Critic_Count</th>\n",
       "      <th>User_Score</th>\n",
       "      <th>User_Count</th>\n",
       "      <th>Rating</th>\n",
       "    </tr>\n",
       "  </thead>\n",
       "  <tbody>\n",
       "    <tr>\n",
       "      <th>149</th>\n",
       "      <td>The Last of Us</td>\n",
       "      <td>PS3</td>\n",
       "      <td>2013</td>\n",
       "      <td>Action</td>\n",
       "      <td>Sony Computer Entertainment Europe</td>\n",
       "      <td>2.41</td>\n",
       "      <td>2.18</td>\n",
       "      <td>0.28</td>\n",
       "      <td>0.99</td>\n",
       "      <td>5.87</td>\n",
       "      <td>9.5</td>\n",
       "      <td>98.0</td>\n",
       "      <td>9.1</td>\n",
       "      <td>8003.0</td>\n",
       "      <td>M</td>\n",
       "    </tr>\n",
       "  </tbody>\n",
       "</table>\n",
       "</div>"
      ],
      "text/plain": [
       "               Name Platform  Year   Genre  \\\n",
       "149  The Last of Us      PS3  2013  Action   \n",
       "\n",
       "                              Publisher  NA_Sales  EU_Sales  JP_Sales  \\\n",
       "149  Sony Computer Entertainment Europe      2.41      2.18      0.28   \n",
       "\n",
       "     Other_Sales  Global_Sales  Critic_Score  Critic_Count  User_Score  \\\n",
       "149         0.99          5.87           9.5          98.0         9.1   \n",
       "\n",
       "     User_Count Rating  \n",
       "149      8003.0      M  "
      ]
     },
     "execution_count": 42,
     "metadata": {},
     "output_type": "execute_result"
    }
   ],
   "source": [
    "df_User_Score_WO_tbd_highest_rated[(df_User_Score_WO_tbd_highest_rated[\"Critic_Count\"]>90) & (df_User_Score_WO_tbd_highest_rated[\"Critic_Score\"]>9) ]"
   ]
  },
  {
   "cell_type": "markdown",
   "id": "bd04d408",
   "metadata": {},
   "source": [
    "The game \"The Last of Us\" has the highest user score and crtic score"
   ]
  },
  {
   "cell_type": "markdown",
   "id": "9d2a6402",
   "metadata": {},
   "source": [
    "# Which type of game has the highest user score?"
   ]
  },
  {
   "cell_type": "code",
   "execution_count": 43,
   "id": "51848b76",
   "metadata": {},
   "outputs": [
    {
     "data": {
      "image/png": "[encoded data removed]",
      "text/plain": [
       "<Figure size 360x360 with 1 Axes>"
      ]
     },
     "metadata": {
      "needs_background": "light"
     },
     "output_type": "display_data"
    }
   ],
   "source": [
    "sns.catplot(data=df_User_Score_WO_tbd_highest_rated,x=\"User_Score\", y =\"Genre\",kind = \"bar\",palette = \"spring\")\n",
    "plt.show()"
   ]
  },
  {
   "cell_type": "markdown",
   "id": "3e64b2ce",
   "metadata": {},
   "source": [
    "Adventure types of games has the highest user score"
   ]
  },
  {
   "cell_type": "markdown",
   "id": "fa881de1",
   "metadata": {},
   "source": [
    "# Highest user rated games have which type of ratings?"
   ]
  },
  {
   "cell_type": "code",
   "execution_count": 44,
   "id": "42b2720c",
   "metadata": {},
   "outputs": [
    {
     "data": {
      "image/png": "[encoded data removed]",
      "text/plain": [
       "<Figure size 432x288 with 1 Axes>"
      ]
     },
     "metadata": {},
     "output_type": "display_data"
    }
   ],
   "source": [
    "sns.set_style(\"whitegrid\")\n",
    "sns.countplot(x=\"Rating\",data = df_User_Score_WO_tbd_highest_rated)\n",
    "plt.show()"
   ]
  },
  {
   "cell_type": "markdown",
   "id": "82d312f0",
   "metadata": {},
   "source": [
    "Highest rated games are mostly rated \"T\" for Teens"
   ]
  },
  {
   "cell_type": "markdown",
   "id": "a0376a53",
   "metadata": {},
   "source": [
    "# My Overall Analysis:"
   ]
  },
  {
   "cell_type": "markdown",
   "id": "ac71e6d0",
   "metadata": {},
   "source": [
    "If we make a new game then we would launch it in North America since globally is selling the most games. Also the Genre of the game will be \"Action\" as we have seen the trend in the twenties is \"Action\" genre games. We can make the new game like the \"The Last of Us\" type of game as it has the highest user score and critic score. Lastly we will make the new game for teens and take an ESRB rating of \"T\"."
   ]
  },
  {
   "cell_type": "code",
   "execution_count": null,
   "id": "e2e6d181",
   "metadata": {},
   "outputs": [],
   "source": []
  }
 ],
 "metadata": {
  "kernelspec": {
   "display_name": "Python 3",
   "language": "python",
   "name": "python3"
  },
  "language_info": {
   "codemirror_mode": {
    "name": "ipython",
    "version": 3
   },
   "file_extension": ".py",
   "mimetype": "text/x-python",
   "name": "python",
   "nbconvert_exporter": "python",
   "pygments_lexer": "ipython3",
   "version": "3.10.5"
  }
 },
 "nbformat": 4,
 "nbformat_minor": 5
}
